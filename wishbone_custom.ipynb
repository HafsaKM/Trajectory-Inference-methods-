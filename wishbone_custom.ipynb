{
 "cells": [
  {
   "cell_type": "code",
   "execution_count": 1,
   "id": "cde98390-5ae3-40cf-8f63-d9453541d8e4",
   "metadata": {},
   "outputs": [
    {
     "name": "stderr",
     "output_type": "stream",
     "text": [
      "C:\\ProgramData\\Anaconda3\\envs\\wishbone_custom_env\\lib\\site-packages\\tqdm\\auto.py:21: TqdmWarning: IProgress not found. Please update jupyter and ipywidgets. See https://ipywidgets.readthedocs.io/en/stable/user_install.html\n",
      "  from .autonotebook import tqdm as notebook_tqdm\n"
     ]
    }
   ],
   "source": [
    "# Now try importing wishbone\n",
    "import numpy as np\n",
    "import pandas as pd\n",
    "\n",
    "# Plotting and miscellaneous imports\n",
    "\n",
    "import matplotlib.pyplot as plt\n",
    "import scanpy as sc\n",
    "import wishbone\n",
    "import matplotlib\n",
    "matplotlib.use('TkAgg')  # Set the backend to TkAgg"
   ]
  },
  {
   "cell_type": "code",
   "execution_count": 2,
   "id": "cc5185b7-5a18-4e54-bcc9-9b6f519f505f",
   "metadata": {},
   "outputs": [],
   "source": [
    "# Load your data\n",
    "scdata =  wishbone.wb.SCData.from_csv('C:/Users/hafsa/OneDrive - Imperial College London/PhD/Public datasets/Wishbone_custom/adata_csv_neat.csv', data_type='sc-seq')\n",
    "\n",
    "# Load the latent space\n",
    "scdata.load_latent_space('C:/Users/hafsa/OneDrive - Imperial College London/PhD/Public datasets/Wishbone_custom/adata_csv_leiden_neat.csv')\n",
    "\n",
    "#run pca\n",
    "# scdata.run_pca()\n",
    "# run diffusion maps\n",
    "#scdata.run_diffusion_map()\n",
    "# Create Wishbone object\n",
    "wb = wishbone.wb.Wishbone(scdata)"
   ]
  },
  {
   "cell_type": "code",
   "execution_count": 3,
   "id": "f5b2a23b-3bbf-407d-9755-deec186d687f",
   "metadata": {},
   "outputs": [
    {
     "data": {
      "text/plain": [
       "<bound method SCData.load_latent_space of SCData: 24018 cells x 12049 genes\n",
       "\n",
       "cluster_assignments=None\n",
       "data_type=True\n",
       "diffusion_eigenvalues=None\n",
       "diffusion_eigenvectors=None\n",
       "diffusion_map_correlations=None\n",
       "latent_space=True\n",
       "library_sizes=None\n",
       "metadata=True\n",
       "normalized=True\n",
       "pca=None\n",
       "tsne=None\n",
       "umap=None>"
      ]
     },
     "execution_count": 3,
     "metadata": {},
     "output_type": "execute_result"
    }
   ],
   "source": [
    "scdata.load_latent_space"
   ]
  },
  {
   "cell_type": "code",
   "execution_count": 5,
   "id": "58e78168-73fb-4e54-93bd-5f3a6b635605",
   "metadata": {},
   "outputs": [],
   "source": [
    "# Load UMAP coordinates into Wishbone\n",
    "scdata.umap = pd.read_csv('scanpy_umap_coords_neat.csv', index_col=0)\n",
    "wb.scdata = scdata"
   ]
  },
  {
   "cell_type": "code",
   "execution_count": 23,
   "id": "dee434bf-e0e5-46f6-88a7-91a289d9872f",
   "metadata": {},
   "outputs": [
    {
     "name": "stdout",
     "output_type": "stream",
     "text": [
      "Building lNN graph...\n",
      "lNN computed in : 2.89 seconds\n",
      "Determining waypoints if not specified...\n",
      "Determining shortest path distances and perspectives....\n",
      "......................................................................................................................................................\n",
      "Time for determining distances and perspectives: 93.20 seconds\n",
      "Determining branch point and branch associations...\n"
     ]
    },
    {
     "name": "stderr",
     "output_type": "stream",
     "text": [
      "c:\\users\\hafsa\\wishbone_new\\src\\wishbone\\core.py:483: RuntimeWarning: invalid value encountered in divide\n",
      "  Stoch = np.divide(Aff, np.sum(Aff, axis=0))\n"
     ]
    },
    {
     "name": "stdout",
     "output_type": "stream",
     "text": [
      "Running iterations...\n",
      "Iteration: 2\n",
      "Correlation with previous iteration:  0.9944\n",
      "1 realignment iterations\n"
     ]
    }
   ],
   "source": [
    "# Run Wishbone\n",
    "wb.run_wishbone(start_cell='GCCTCTATCGTTTATC', components_list=range(0, 30), num_waypoints=150)\n",
    "\n",
    "# Plot diffusion components on UMAP\n",
    "#fig, ax = scdata.plot_diffusion_components(use_umap=True) "
   ]
  },
  {
   "cell_type": "code",
   "execution_count": null,
   "id": "d7ed28e3-90ff-4e35-a3bb-7141e18cef62",
   "metadata": {},
   "outputs": [
    {
     "name": "stderr",
     "output_type": "stream",
     "text": [
      "findfont: Font family 'Bitstream Vera Sans' not found.\n",
      "findfont: Font family 'Bitstream Vera Sans' not found.\n",
      "findfont: Font family 'Bitstream Vera Sans' not found.\n",
      "findfont: Font family 'Bitstream Vera Sans' not found.\n",
      "findfont: Font family 'Bitstream Vera Sans' not found.\n",
      "findfont: Font family 'Bitstream Vera Sans' not found.\n",
      "findfont: Font family 'Bitstream Vera Sans' not found.\n"
     ]
    }
   ],
   "source": [
    "# Plot Wishbone on UMAP\n",
    "# Run UMAP on SCData\n",
    "\n",
    "fig, ax = wb.plot_wishbone_on_umap()\n",
    "plt.show()"
   ]
  },
  {
   "cell_type": "code",
   "execution_count": null,
   "id": "222c75ac-ef2a-413c-8817-36300c303461",
   "metadata": {},
   "outputs": [],
   "source": []
  },
  {
   "cell_type": "code",
   "execution_count": null,
   "id": "c8d0b37e-9ac2-4bfa-b9c7-a2366b4b4a6a",
   "metadata": {},
   "outputs": [],
   "source": []
  }
 ],
 "metadata": {
  "kernelspec": {
   "display_name": "Python 3 (ipykernel)",
   "language": "python",
   "name": "python3"
  },
  "language_info": {
   "codemirror_mode": {
    "name": "ipython",
    "version": 3
   },
   "file_extension": ".py",
   "mimetype": "text/x-python",
   "name": "python",
   "nbconvert_exporter": "python",
   "pygments_lexer": "ipython3",
   "version": "3.8.19"
  }
 },
 "nbformat": 4,
 "nbformat_minor": 5
}
